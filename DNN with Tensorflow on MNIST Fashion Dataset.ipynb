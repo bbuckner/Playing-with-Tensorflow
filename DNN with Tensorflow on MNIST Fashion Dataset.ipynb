{
 "cells": [
  {
   "cell_type": "code",
   "execution_count": 29,
   "metadata": {},
   "outputs": [],
   "source": [
    "import math\n",
    "import matplotlib.pyplot as plt\n",
    "import numpy as np\n",
    "import mnist_reader\n",
    "import tensorflow as tf\n",
    "from tensorflow.python.framework import ops\n",
    "from matplotlib.pyplot import imread"
   ]
  },
  {
   "cell_type": "code",
   "execution_count": 30,
   "metadata": {},
   "outputs": [],
   "source": [
    "def create_placeholders(n_x, n_y):\n",
    "    X = tf.placeholder(tf.float32, [n_x, None])\n",
    "    Y = tf.placeholder(tf.float32, [n_y, None])\n",
    "    return X, Y"
   ]
  },
  {
   "cell_type": "code",
   "execution_count": 31,
   "metadata": {},
   "outputs": [],
   "source": [
    "def initialize_parameters(layer_dims):\n",
    "    parameters = {}\n",
    "    L = len(layer_dims)\n",
    "    for l in range(1, L):\n",
    "        parameters['W' + str(l)] = tf.get_variable('W' + str(l), [layer_dims[l], layer_dims[l-1]], initializer = tf.contrib.layers.xavier_initializer())\n",
    "        parameters['b' + str(l)] = tf.get_variable('b' + str(l), [layer_dims[l], 1], initializer = tf.zeros_initializer())\n",
    "    return parameters"
   ]
  },
  {
   "cell_type": "code",
   "execution_count": 32,
   "metadata": {},
   "outputs": [],
   "source": [
    "def one_hot_conversion(labels, C): # The labels come in as a rank 1 array.\n",
    "    classes_tensor = tf.constant(C, name='C')\n",
    "    one_hot_tensor = tf.one_hot(labels, C, axis = 0)\n",
    "    with tf.Session() as sess:\n",
    "        one_hot_matrix = sess.run(one_hot_tensor)\n",
    "    return one_hot_matrix"
   ]
  },
  {
   "cell_type": "code",
   "execution_count": 33,
   "metadata": {},
   "outputs": [],
   "source": [
    "def relu_forward(A_prev, W, b):\n",
    "    Z = tf.add(tf.matmul(W, A_prev), b)\n",
    "    A = tf.nn.relu(Z)\n",
    "    return A"
   ]
  },
  {
   "cell_type": "code",
   "execution_count": 34,
   "metadata": {},
   "outputs": [],
   "source": [
    "def forward_propagation(X, parameters):\n",
    "    A = X\n",
    "    L = len(parameters) // 2\n",
    "    \n",
    "    # All relu layers\n",
    "    for l in range(1, L):\n",
    "        A_prev = A\n",
    "        A = relu_forward(A_prev, parameters['W' + str(l)], parameters['b' + str(l)])\n",
    "        \n",
    "    # Last layer logits\n",
    "    ZL = tf.add(tf.matmul(parameters['W' + str(L)], A), parameters['b' + str(L)])\n",
    "    return ZL"
   ]
  },
  {
   "cell_type": "code",
   "execution_count": 35,
   "metadata": {},
   "outputs": [],
   "source": [
    "def compute_cost(ZL, Y, parameters, lambd, L2_Regularization = False):\n",
    "    if L2_Regularization == False:\n",
    "        logits = tf.transpose(ZL)\n",
    "        labels = tf.transpose(Y)\n",
    "        cost = tf.reduce_mean(tf.nn.softmax_cross_entropy_with_logits_v2(logits = logits, labels = labels))\n",
    "    else:\n",
    "        L = len(parameters) // 2\n",
    "        regularizer = 0\n",
    "        for l in range (1, L):\n",
    "            regularizer += tf.nn.l2_loss(parameters['W' + str(l)])\n",
    "        logits = tf.transpose(ZL)\n",
    "        labels = tf.transpose(Y)\n",
    "        cost = tf.reduce_mean(tf.nn.softmax_cross_entropy_with_logits_v2(logits = logits, labels = labels))\n",
    "        cost = tf.reduce_mean(cost + lambd * regularizer)\n",
    "    return cost"
   ]
  },
  {
   "cell_type": "code",
   "execution_count": 36,
   "metadata": {},
   "outputs": [],
   "source": [
    "def random_mini_batches(X, Y, mini_batch_size):\n",
    "    \"\"\"\n",
    "    Creates a list of random minibatches from (X, Y)\n",
    "    \n",
    "    Arguments:\n",
    "    X -- input data, of shape (input size, number of examples)\n",
    "    Y -- true \"label\" vector (containing 0 if cat, 1 if non-cat), of shape (1, number of examples)\n",
    "    mini_batch_size - size of the mini-batches, integer\n",
    "    seed -- this is only for the purpose of grading, so that you're \"random minibatches are the same as ours.\n",
    "    \n",
    "    Returns:\n",
    "    mini_batches -- list of synchronous (mini_batch_X, mini_batch_Y)\n",
    "    \"\"\"\n",
    "    \n",
    "    m = X.shape[1]                  # number of training examples\n",
    "    mini_batches = []\n",
    "    \n",
    "    # Step 1: Shuffle (X, Y)\n",
    "    permutation = list(np.random.permutation(m))\n",
    "    shuffled_X = X[:, permutation]\n",
    "    shuffled_Y = Y[:, permutation].reshape((Y.shape[0],m))\n",
    "\n",
    "    # Step 2: Partition (shuffled_X, shuffled_Y). Minus the end case.\n",
    "    num_complete_minibatches = math.floor(m/mini_batch_size) # number of mini batches of size mini_batch_size in your partitionning\n",
    "    for k in range(0, num_complete_minibatches):\n",
    "        mini_batch_X = shuffled_X[:, k * mini_batch_size : k * mini_batch_size + mini_batch_size]\n",
    "        mini_batch_Y = shuffled_Y[:, k * mini_batch_size : k * mini_batch_size + mini_batch_size]\n",
    "        mini_batch = (mini_batch_X, mini_batch_Y)\n",
    "        mini_batches.append(mini_batch)\n",
    "    \n",
    "    # Handling the end case (last mini-batch < mini_batch_size)\n",
    "    if m % mini_batch_size != 0:\n",
    "        mini_batch_X = shuffled_X[:, num_complete_minibatches * mini_batch_size : m]\n",
    "        mini_batch_Y = shuffled_Y[:, num_complete_minibatches * mini_batch_size : m]\n",
    "        mini_batch = (mini_batch_X, mini_batch_Y)\n",
    "        mini_batches.append(mini_batch)\n",
    "    \n",
    "    return mini_batches"
   ]
  },
  {
   "cell_type": "code",
   "execution_count": 37,
   "metadata": {},
   "outputs": [],
   "source": [
    "X_train, Y_train = mnist_reader.load_mnist('data/fashion', kind='train')\n",
    "X_test, Y_test = mnist_reader.load_mnist('data/fashion', kind='t10k')\n",
    "X_train = X_train.T\n",
    "X_test = X_test.T"
   ]
  },
  {
   "cell_type": "code",
   "execution_count": 45,
   "metadata": {},
   "outputs": [],
   "source": [
    "def model(X_train, Y_train, X_test, Y_test, lambd,\n",
    "          learning_rate = 0.0001, num_epochs = 1000, minibatch_size = 500, \n",
    "          print_cost = False, L2_Regularization = True):\n",
    "    \n",
    "    ops.reset_default_graph()\n",
    "    (n_x, m) = X_train.shape\n",
    "    C = len(np.unique(Y_train))\n",
    "    n_y = C\n",
    "    Y_train = one_hot_conversion(Y_train, C)\n",
    "    Y_test = one_hot_conversion(Y_test, C)\n",
    "    layer_dims = [n_x, 32, 32, 32, n_y]  # Change the values between n_x and n_y to expand or contract the Neural Network.\n",
    "    costs = []\n",
    "    \n",
    "    X, Y = create_placeholders(n_x, n_y)\n",
    "    parameters = initialize_parameters(layer_dims)\n",
    "    ZL = forward_propagation(X, parameters)\n",
    "    cost = compute_cost(ZL, Y, parameters, lambd, L2_Regularization)\n",
    "    optimizer = tf.train.AdamOptimizer(learning_rate).minimize(cost)\n",
    "    init = tf.global_variables_initializer()\n",
    "    \n",
    "    with tf.Session() as sess:\n",
    "        sess.run(init)\n",
    "        for epoch in range(num_epochs):\n",
    "            epoch_cost = 0.\n",
    "            num_minibatches = int(m / minibatch_size)\n",
    "            minibatches = random_mini_batches(X_train, Y_train, minibatch_size)\n",
    "            \n",
    "            for minibatch in minibatches:\n",
    "                (minibatch_X, minibatch_Y) = minibatch\n",
    "                _ , minibatch_cost = sess.run([optimizer, cost], feed_dict={X: minibatch_X, Y: minibatch_Y})\n",
    "                epoch_cost += minibatch_cost / num_minibatches\n",
    "                \n",
    "            if print_cost == True and epoch % 100 == 0:\n",
    "                print (\"Cost after epoch {}: {}\".format(epoch, epoch_cost))\n",
    "            if print_cost == True and epoch % 5 == 0:\n",
    "                costs.append(epoch_cost)\n",
    "                plt.plot(np.squeeze(costs))\n",
    "            if print_cost == True:\n",
    "                plt.ylabel('cost')\n",
    "                plt.xlabel('iterations (per tens)')\n",
    "                plt.title(\"Learning rate =\" + str(learning_rate))\n",
    "                plt.show()\n",
    "        \n",
    "        parameters = sess.run(parameters)\n",
    "        print('Parameters have been trained!')\n",
    "        \n",
    "        correct_prediction = tf.equal(tf.argmax(ZL), tf.argmax(Y))\n",
    "        \n",
    "        accuracy = tf.reduce_mean(tf.cast(correct_prediction, 'float'))\n",
    "        \n",
    "        print (\"lambd:\" + str(lambd))\n",
    "        print (\"Train Accuracy:\", accuracy.eval({X: X_train, Y: Y_train}))\n",
    "        print (\"Test Accuracy:\", accuracy.eval({X: X_test, Y: Y_test}))\n",
    "        \n",
    "        return parameters"
   ]
  },
  {
   "cell_type": "code",
   "execution_count": 44,
   "metadata": {},
   "outputs": [
    {
     "data": {
      "image/png": "[encoded data removed]",
      "text/plain": [
       "<Figure size 432x288 with 1 Axes>"
      ]
     },
     "metadata": {
      "needs_background": "light"
     },
     "output_type": "display_data"
    },
    {
     "name": "stdout",
     "output_type": "stream",
     "text": [
      "Parameters have been trained!\n",
      "lambd:0.01\n",
      "Train Accuracy: 0.97675\n",
      "Test Accuracy: 0.8658\n"
     ]
    },
    {
     "data": {
      "image/png": "[encoded data removed]",
      "text/plain": [
       "<Figure size 432x288 with 1 Axes>"
      ]
     },
     "metadata": {
      "needs_background": "light"
     },
     "output_type": "display_data"
    },
    {
     "name": "stdout",
     "output_type": "stream",
     "text": [
      "Parameters have been trained!\n",
      "lambd:0.03\n",
      "Train Accuracy: 0.9668667\n",
      "Test Accuracy: 0.8701\n"
     ]
    },
    {
     "data": {
      "image/png": "[encoded data removed]",
      "text/plain": [
       "<Figure size 432x288 with 1 Axes>"
      ]
     },
     "metadata": {
      "needs_background": "light"
     },
     "output_type": "display_data"
    },
    {
     "name": "stdout",
     "output_type": "stream",
     "text": [
      "Parameters have been trained!\n",
      "lambd:0.09\n",
      "Train Accuracy: 0.93348336\n",
      "Test Accuracy: 0.8703\n"
     ]
    },
    {
     "data": {
      "image/png": "[encoded data removed]",
      "text/plain": [
       "<Figure size 432x288 with 1 Axes>"
      ]
     },
     "metadata": {
      "needs_background": "light"
     },
     "output_type": "display_data"
    },
    {
     "name": "stdout",
     "output_type": "stream",
     "text": [
      "Parameters have been trained!\n",
      "lambd:0.3\n",
      "Train Accuracy: 0.90005\n",
      "Test Accuracy: 0.8642\n"
     ]
    },
    {
     "data": {
      "image/png": "[encoded data removed]",
      "text/plain": [
       "<Figure size 432x288 with 1 Axes>"
      ]
     },
     "metadata": {
      "needs_background": "light"
     },
     "output_type": "display_data"
    },
    {
     "name": "stdout",
     "output_type": "stream",
     "text": [
      "Parameters have been trained!\n",
      "lambd:0.9\n",
      "Train Accuracy: 0.87935\n",
      "Test Accuracy: 0.8573\n"
     ]
    },
    {
     "data": {
      "image/png": "[encoded data removed]",
      "text/plain": [
       "<Figure size 432x288 with 1 Axes>"
      ]
     },
     "metadata": {
      "needs_background": "light"
     },
     "output_type": "display_data"
    },
    {
     "name": "stdout",
     "output_type": "stream",
     "text": [
      "Parameters have been trained!\n",
      "lambd:3\n",
      "Train Accuracy: 0.8247333\n",
      "Test Accuracy: 0.8112\n"
     ]
    }
   ],
   "source": [
    "lambds = [.01, .03, .09, .3, .9, 3]\n",
    "lambd_parameters = {}\n",
    "for lambd in lambds:\n",
    "    parameters = model(X_train, Y_train, X_test, Y_test, lambd = lambd)\n",
    "    lambd_parameters[lambd] = parameters"
   ]
  },
  {
   "cell_type": "code",
   "execution_count": 46,
   "metadata": {},
   "outputs": [
    {
     "data": {
      "text/plain": [
       "<matplotlib.image.AxesImage at 0x1df0035c080>"
      ]
     },
     "execution_count": 46,
     "metadata": {},
     "output_type": "execute_result"
    },
    {
     "data": {
      "image/png": "[encoded data removed]",
      "text/plain": [
       "<Figure size 432x288 with 1 Axes>"
      ]
     },
     "metadata": {
      "needs_background": "light"
     },
     "output_type": "display_data"
    }
   ],
   "source": [
    "index = 24500\n",
    "image = X_train[:,index]\n",
    "image = image.reshape((28,28))\n",
    "plt.imshow(image, cmap='gray')"
   ]
  },
  {
   "cell_type": "code",
   "execution_count": 49,
   "metadata": {},
   "outputs": [
    {
     "data": {
      "text/plain": [
       "{'W1': array([[-4.5119321e-34, -9.3788580e-34, -1.1514125e-33, ...,\n",
       "          9.3760148e-34, -1.1729141e-33, -2.8585598e-34],\n",
       "        [-9.9641702e-06, -1.2713982e-04,  4.0076871e-04, ...,\n",
       "         -4.1937637e-03, -6.8096655e-05, -4.2544850e-04],\n",
       "        [-2.5385292e-05, -4.4544731e-04, -2.9728273e-03, ...,\n",
       "         -1.5464580e-03,  2.5343692e-03, -2.9476115e-04],\n",
       "        ...,\n",
       "        [-2.1031663e-15, -1.6915292e-04, -1.7796252e-03, ...,\n",
       "          3.1934108e-03,  5.3190845e-03, -8.3539914e-04],\n",
       "        [-4.0924510e-06, -2.8852235e-05,  2.5520538e-04, ...,\n",
       "         -3.5551358e-03, -2.7684299e-03, -6.0346909e-04],\n",
       "        [-1.1352139e-05,  1.0499813e-04, -3.3878136e-04, ...,\n",
       "         -1.2403500e-03, -3.7222308e-06, -5.8940986e-07]], dtype=float32),\n",
       " 'b1': array([[-0.01244614],\n",
       "        [ 0.2105358 ],\n",
       "        [ 0.5893495 ],\n",
       "        [ 0.28426096],\n",
       "        [ 0.42163497],\n",
       "        [ 0.5666517 ],\n",
       "        [ 1.4061561 ],\n",
       "        [-0.05322925],\n",
       "        [ 0.28668004],\n",
       "        [ 0.1984047 ],\n",
       "        [ 0.27950042],\n",
       "        [ 0.61625654],\n",
       "        [ 0.30527714],\n",
       "        [-0.40260005],\n",
       "        [-0.01131695],\n",
       "        [ 0.5679738 ],\n",
       "        [ 0.07716446],\n",
       "        [ 0.58712554],\n",
       "        [-0.11172117],\n",
       "        [ 0.07102615],\n",
       "        [ 0.78756464],\n",
       "        [ 0.29652518],\n",
       "        [-0.4979261 ],\n",
       "        [ 1.2185153 ],\n",
       "        [ 0.5814423 ],\n",
       "        [ 0.1842086 ],\n",
       "        [-0.10719308],\n",
       "        [ 0.5203558 ],\n",
       "        [ 0.5047448 ],\n",
       "        [ 0.45287204],\n",
       "        [ 0.48685583],\n",
       "        [ 0.445548  ]], dtype=float32),\n",
       " 'W2': array([[ 7.5909127e-34, -1.3073632e-02, -1.8218843e-02, ...,\n",
       "         -2.3809762e-03,  1.1837679e-02,  3.1601697e-02],\n",
       "        [-3.8881932e-34, -6.5161302e-03, -3.1085011e-02, ...,\n",
       "          2.9316431e-02, -3.0770572e-03, -2.3453658e-02],\n",
       "        [-4.0980589e-34,  2.4645564e-03,  8.8729128e-02, ...,\n",
       "          1.6506135e-02,  2.2999123e-02, -4.1600071e-02],\n",
       "        ...,\n",
       "        [-5.4390757e-34, -7.0217107e-03,  4.3806996e-02, ...,\n",
       "         -4.8603978e-02, -5.8973279e-02,  4.8477229e-02],\n",
       "        [-1.0319766e-34, -7.0776376e-03, -4.2938754e-02, ...,\n",
       "          7.5765788e-03, -1.3191481e-02,  6.2007816e-03],\n",
       "        [ 1.0496323e-34, -9.7642681e-03,  7.3286577e-04, ...,\n",
       "         -1.0385501e-02, -1.4148006e-02, -1.2304142e-02]], dtype=float32),\n",
       " 'b2': array([[ 5.34561336e-01],\n",
       "        [ 1.97272569e-01],\n",
       "        [ 6.92892313e-01],\n",
       "        [-1.09148636e-01],\n",
       "        [ 3.57708365e-01],\n",
       "        [ 2.05189705e-01],\n",
       "        [-1.40925229e-01],\n",
       "        [-1.09992347e-04],\n",
       "        [ 8.88937190e-02],\n",
       "        [ 5.62107027e-01],\n",
       "        [-5.09141246e-04],\n",
       "        [ 9.13255736e-02],\n",
       "        [ 5.79242885e-01],\n",
       "        [-3.30588245e-03],\n",
       "        [ 1.92745160e-02],\n",
       "        [-4.19193041e-03],\n",
       "        [ 4.34056133e-01],\n",
       "        [ 1.92526057e-01],\n",
       "        [-3.19567472e-02],\n",
       "        [-1.62544963e-03],\n",
       "        [ 1.15890294e-01],\n",
       "        [ 7.67579794e-01],\n",
       "        [-2.36260472e-03],\n",
       "        [ 8.08013439e-01],\n",
       "        [-2.77398009e-04],\n",
       "        [ 4.44026887e-01],\n",
       "        [ 3.26089770e-01],\n",
       "        [ 8.54163021e-02],\n",
       "        [ 3.36071730e-01],\n",
       "        [ 1.26419172e-01],\n",
       "        [ 5.31167507e-01],\n",
       "        [ 3.25507998e-01]], dtype=float32),\n",
       " 'W3': array([[ 0.00841925, -0.00622016, -0.03076833, ...,  0.08276071,\n",
       "          0.00599702,  0.00566923],\n",
       "        [ 0.00858325,  0.01028902,  0.02176321, ...,  0.00394536,\n",
       "          0.01005333, -0.03168845],\n",
       "        [-0.00645673,  0.01351071, -0.00355989, ...,  0.03157829,\n",
       "          0.00162755,  0.00613455],\n",
       "        ...,\n",
       "        [-0.03413092,  0.0568154 ,  0.01015905, ..., -0.06840359,\n",
       "          0.0512816 , -0.01624574],\n",
       "        [-0.01332555,  0.0162617 ,  0.00359209, ...,  0.02513273,\n",
       "          0.01065754,  0.01671936],\n",
       "        [ 0.00159803, -0.01436607,  0.01964233, ..., -0.00627301,\n",
       "         -0.02066784,  0.00190748]], dtype=float32),\n",
       " 'b3': array([[ 0.23548493],\n",
       "        [ 0.04354534],\n",
       "        [-0.0283308 ],\n",
       "        [ 0.10741478],\n",
       "        [ 0.2807305 ],\n",
       "        [ 0.05769426],\n",
       "        [ 0.40371114],\n",
       "        [-0.09205089],\n",
       "        [ 0.22134124],\n",
       "        [ 0.44668224],\n",
       "        [ 0.22286518],\n",
       "        [ 0.15680341],\n",
       "        [ 0.30531228],\n",
       "        [ 0.3471122 ],\n",
       "        [ 0.0917808 ],\n",
       "        [ 0.24703659],\n",
       "        [ 0.65936226],\n",
       "        [ 0.28627026],\n",
       "        [-0.03611465],\n",
       "        [ 0.18056132],\n",
       "        [ 0.50250727],\n",
       "        [ 0.06260566],\n",
       "        [-0.01220278],\n",
       "        [ 0.36610693],\n",
       "        [ 0.15961927],\n",
       "        [ 0.7378084 ],\n",
       "        [ 0.30031374],\n",
       "        [-0.06356715],\n",
       "        [ 0.39443034],\n",
       "        [ 0.4673381 ],\n",
       "        [ 0.38473573],\n",
       "        [-0.03429195]], dtype=float32),\n",
       " 'W4': array([[ 1.50984153e-01,  6.13862693e-01, -1.92413136e-01,\n",
       "         -3.04049943e-02, -1.24149406e+00, -1.02652633e+00,\n",
       "          5.93694627e-01, -1.74339250e-01, -1.48871398e+00,\n",
       "          5.49029112e-01, -2.79867768e+00, -1.13154960e+00,\n",
       "         -1.55411303e+00,  3.00019592e-01, -1.58248699e+00,\n",
       "          2.64870912e-01, -1.55791612e-02,  2.84406424e-01,\n",
       "         -9.19549227e-01, -1.24946284e+00,  9.58093822e-01,\n",
       "          4.91580516e-02,  4.27743495e-01,  3.62280309e-01,\n",
       "          2.64540553e-01,  4.29732986e-02, -2.05197287e+00,\n",
       "         -1.00170553e+00, -6.22248232e-01, -1.18773389e+00,\n",
       "         -9.46924210e-01,  4.34173256e-01],\n",
       "        [-3.94730091e-01,  2.48510212e-01, -8.91587436e-01,\n",
       "         -2.43998766e-01, -6.47876486e-02,  1.80942357e+00,\n",
       "         -1.70792103e-01,  1.16651095e-01, -1.10927410e-01,\n",
       "         -8.95145476e-01,  1.07752848e+00, -1.79120648e+00,\n",
       "          1.32656172e-01,  4.61994290e-01,  9.90372181e-01,\n",
       "          1.56494427e+00, -1.41553652e+00, -1.52374756e+00,\n",
       "          1.60364068e+00, -1.69486415e+00, -2.25129008e+00,\n",
       "          2.24360847e+00, -1.23737097e+00, -1.13905358e+00,\n",
       "          3.64229798e-01, -8.99700582e-01, -1.14973092e+00,\n",
       "          2.36118034e-01, -2.87824607e+00,  1.83009192e-01,\n",
       "         -1.16083622e+00,  9.83040392e-01],\n",
       "        [-3.91289979e-01, -1.80089951e-01,  4.77924198e-01,\n",
       "          5.28890908e-01, -1.85041678e+00, -1.85923004e+00,\n",
       "         -1.81779221e-01, -2.58360803e-01, -7.04506159e-01,\n",
       "          8.78684402e-01, -8.87954980e-02,  3.41664284e-01,\n",
       "         -1.38242602e+00, -6.94708169e-01,  9.56358373e-01,\n",
       "         -3.01786852e+00, -1.38318026e-02, -3.54995370e-01,\n",
       "         -5.51309586e-01,  8.09814751e-01, -1.16755712e+00,\n",
       "         -2.67509675e+00, -2.94391453e-01,  4.24189940e-02,\n",
       "         -2.18913093e-01, -1.76087523e+00, -1.66595733e+00,\n",
       "         -3.10463548e-01, -6.49434984e-01,  1.71326041e+00,\n",
       "          5.09844720e-01, -1.70674250e-01],\n",
       "        [-1.16665900e-01, -1.93724060e+00, -1.63558498e-01,\n",
       "         -5.52983023e-02,  1.61778152e+00, -2.15105101e-01,\n",
       "          2.14302793e-01, -2.33116984e-01,  6.92494571e-01,\n",
       "          4.14842255e-02, -1.61630166e+00,  4.92063880e-01,\n",
       "          1.14336407e+00,  1.53191254e-01,  2.41033778e-01,\n",
       "         -9.72976387e-01, -4.29103851e+00, -1.83844984e-01,\n",
       "         -2.88184357e+00, -1.79796422e+00, -1.76045656e+00,\n",
       "         -9.22324955e-01, -1.52525640e+00, -2.17656687e-01,\n",
       "         -1.21215034e+00,  1.62006104e+00,  8.35980996e-02,\n",
       "          1.71646833e-01, -1.99829984e+00, -1.98984611e+00,\n",
       "          4.71303672e-01,  1.19099244e-02],\n",
       "        [ 3.89461488e-01, -1.54179358e+00,  3.34567251e-03,\n",
       "         -8.16899300e-01, -5.48533559e-01,  7.01398253e-01,\n",
       "          3.87301534e-01, -1.58341572e-01,  6.40053689e-01,\n",
       "         -1.16403937e+00, -5.27976990e-01, -7.34099746e-01,\n",
       "          2.92763948e-01, -2.42599320e+00,  3.82303208e-01,\n",
       "         -3.22038674e+00, -1.02371967e+00, -2.72552937e-01,\n",
       "          1.41075146e+00, -8.89594197e-01, -1.27210915e+00,\n",
       "         -2.36443567e+00,  9.38546434e-02, -8.92648518e-01,\n",
       "         -1.40742868e-01, -6.94423735e-01, -6.51136994e-01,\n",
       "          6.78910255e-01,  3.52408588e-01, -1.00357628e+00,\n",
       "          2.26899922e-01,  5.05929530e-01],\n",
       "        [-3.17318511e+00, -1.48564243e+00, -1.06556618e+00,\n",
       "         -3.85546947e+00,  1.23433113e-01,  2.76090288e+00,\n",
       "         -3.93110418e+00,  1.78132672e-02,  7.21523941e-01,\n",
       "         -4.31495142e+00,  1.01030695e+00, -8.42758834e-01,\n",
       "         -2.48608291e-01,  5.87391078e-01, -5.45121551e-01,\n",
       "          1.20690560e+00,  1.65391421e+00, -1.47887039e+00,\n",
       "          1.48407054e+00, -5.43490648e-01, -1.35913461e-01,\n",
       "          1.81330657e+00,  1.53894976e-01, -1.13725519e+00,\n",
       "         -1.72217631e+00,  2.96443731e-01, -2.20533538e+00,\n",
       "          6.73325539e-01, -4.22974229e-01,  1.72570503e+00,\n",
       "         -4.01555777e-01,  1.60001838e+00],\n",
       "        [ 3.54288161e-01,  2.22214043e-01, -3.20407271e-01,\n",
       "          4.96448517e-01, -1.45996892e+00, -8.90513062e-01,\n",
       "         -1.10080011e-01, -3.66237700e-01, -5.44165134e-01,\n",
       "         -4.75289188e-02, -2.04989338e+00,  1.53907850e-01,\n",
       "          3.81443173e-01, -1.99189878e+00, -6.91311538e-01,\n",
       "         -6.96103752e-01, -1.41900373e+00,  3.71769160e-01,\n",
       "         -1.25889754e+00, -4.76730108e-01, -9.12027657e-02,\n",
       "         -5.89511514e-01, -6.10807896e-01,  3.33747774e-01,\n",
       "          1.34007260e-01, -5.64426303e-01,  2.28946733e+00,\n",
       "         -6.90938115e-01,  8.33262384e-01, -7.11560309e-01,\n",
       "          1.83997899e-01, -1.37323868e+00],\n",
       "        [-2.78762937e+00,  1.60005975e+00, -1.15525210e+00,\n",
       "         -2.80191004e-02, -6.25198245e-01, -2.66797733e+00,\n",
       "         -4.85761404e+00,  2.89692074e-01, -5.00558972e-01,\n",
       "         -1.51815569e+00,  5.43444216e-01,  5.94609082e-01,\n",
       "         -2.96539664e-01,  9.06259060e-01, -3.25449324e+00,\n",
       "          1.03094149e+00,  4.28474277e-01, -3.40341836e-01,\n",
       "         -3.11481738e+00,  1.92323908e-01,  9.04376924e-01,\n",
       "          7.06762254e-01,  2.16620415e-01,  7.66134918e-01,\n",
       "          1.40625492e-01,  1.76635161e-01,  6.46687984e-01,\n",
       "         -1.13316059e+00, -8.79550219e-01,  8.91617358e-01,\n",
       "         -7.88749531e-02, -2.97379136e+00],\n",
       "        [-3.85814577e-01, -4.09634709e-01,  1.23510078e-01,\n",
       "         -1.22528136e+00, -2.12039828e+00,  1.62039316e+00,\n",
       "         -8.28276217e-01,  4.30582836e-02,  8.53389561e-01,\n",
       "         -2.11774254e+00, -3.25684458e-01,  8.17921221e-01,\n",
       "         -2.39576006e+00,  1.02709544e+00, -1.44857442e+00,\n",
       "         -2.36038017e+00, -2.44626927e+00,  6.27457857e-01,\n",
       "         -4.38750237e-01,  1.21454859e+00,  1.96215487e+00,\n",
       "         -1.80997491e+00,  1.07349765e+00,  1.11636043e+00,\n",
       "         -5.42461514e-01, -5.50964355e-01, -1.88390577e+00,\n",
       "          1.32261014e+00, -2.95233178e+00, -1.33799756e+00,\n",
       "          1.83866143e-01,  8.17013919e-01],\n",
       "        [ 1.66894183e-01, -9.13491786e-01,  8.13631356e-01,\n",
       "         -1.01788259e+00,  1.06757450e+00, -1.14254856e+00,\n",
       "         -2.83655453e+00,  7.60855079e-02,  1.41117260e-01,\n",
       "         -2.96239924e+00, -1.59690678e-01,  7.21454263e-01,\n",
       "          9.54737186e-01, -4.42575514e-01, -2.02583671e+00,\n",
       "         -1.37741399e+00, -7.66250193e-01,  6.28684700e-01,\n",
       "         -1.40818512e+00,  1.93902254e-01, -7.70605028e-01,\n",
       "         -1.44332004e+00,  4.70798582e-01, -1.01754749e+00,\n",
       "         -4.08775949e+00,  5.76570690e-01,  9.09391999e-01,\n",
       "          3.58790159e-01,  1.21822250e+00, -2.12636495e+00,\n",
       "          7.07157135e-01, -1.28228617e+00]], dtype=float32),\n",
       " 'b4': array([[-0.12488678],\n",
       "        [-1.5270257 ],\n",
       "        [ 0.13159475],\n",
       "        [ 0.38558066],\n",
       "        [-0.23008241],\n",
       "        [ 0.25780085],\n",
       "        [ 0.3223338 ],\n",
       "        [ 0.14973561],\n",
       "        [ 0.15684691],\n",
       "        [-0.26477554]], dtype=float32)}"
      ]
     },
     "execution_count": 49,
     "metadata": {},
     "output_type": "execute_result"
    }
   ],
   "source": [
    "lambd_parameters[.09]"
   ]
  },
  {
   "cell_type": "code",
   "execution_count": null,
   "metadata": {},
   "outputs": [],
   "source": []
  }
 ],
 "metadata": {
  "kernelspec": {
   "display_name": "Python 3",
   "language": "python",
   "name": "python3"
  },
  "language_info": {
   "codemirror_mode": {
    "name": "ipython",
    "version": 3
   },
   "file_extension": ".py",
   "mimetype": "text/x-python",
   "name": "python",
   "nbconvert_exporter": "python",
   "pygments_lexer": "ipython3",
   "version": "3.6.8"
  }
 },
 "nbformat": 4,
 "nbformat_minor": 2
}
